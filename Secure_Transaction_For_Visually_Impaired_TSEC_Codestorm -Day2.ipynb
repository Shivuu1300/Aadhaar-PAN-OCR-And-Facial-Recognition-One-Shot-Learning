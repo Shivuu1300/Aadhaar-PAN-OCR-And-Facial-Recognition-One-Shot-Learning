version https://git-lfs.github.com/spec/v1
oid sha256:6ea0069bde3c16d54eefbfb5555baf1a7492865605d599525076a205654e4a0d
size 53057856
