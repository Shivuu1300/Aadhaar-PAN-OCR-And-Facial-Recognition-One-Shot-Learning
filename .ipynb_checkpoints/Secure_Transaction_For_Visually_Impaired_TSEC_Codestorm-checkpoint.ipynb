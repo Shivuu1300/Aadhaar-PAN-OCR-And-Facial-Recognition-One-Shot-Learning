version https://git-lfs.github.com/spec/v1
oid sha256:3bfbb14a4ee3c8159713f7f207c5a3b14cf2d67f94bb838c96298a382c83bdbc
size 10656
