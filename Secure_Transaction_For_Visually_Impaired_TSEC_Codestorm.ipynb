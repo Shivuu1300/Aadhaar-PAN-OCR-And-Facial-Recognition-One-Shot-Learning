version https://git-lfs.github.com/spec/v1
oid sha256:14b9abe428a695fa7580b31be63805014e5d1f0be4c241305a6ec85bf067b065
size 10284
